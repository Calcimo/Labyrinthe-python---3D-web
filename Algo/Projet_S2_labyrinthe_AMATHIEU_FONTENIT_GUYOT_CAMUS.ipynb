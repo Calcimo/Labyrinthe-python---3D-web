{
 "cells": [
  {
   "cell_type": "markdown",
   "metadata": {},
   "source": [
    "# Création et résolution de labyrinthes"
   ]
  },
  {
   "cell_type": "markdown",
   "metadata": {},
   "source": [
    "Références :\n",
    "Wikipedia pour l'algorithme d'exploration exhaustive\n",
    "\"Mazes for Programmers\" de Jamis Buck, qui traite de différents problèmes liés aux labyrinthes, et propose des implémentations en Ruby."
   ]
  },
  {
   "cell_type": "markdown",
   "metadata": {},
   "source": [
    "# 1°) Introduction"
   ]
  },
  {
   "cell_type": "markdown",
   "metadata": {},
   "source": [
    "## 1_1 Présentation"
   ]
  },
  {
   "cell_type": "markdown",
   "metadata": {},
   "source": [
    "L'objectif de ce mini-projet est de voir différents algorithmes permettant de construire des labyrinthes, puis une méthode de résolution\n",
    "Nous nous restreindrons à des labyrinthes dits parfaits, c'est à dire des labyrinthes où chaque cellule peut joindre une autre par un chemin unique.\n",
    "A l'inverse, les labyrinthes pouvant contenir des ilôts, des boucles ou des cellules inaccessibles sont dits imparfaits, et ne seront pas étudiés dans ce projet."
   ]
  },
  {
   "cell_type": "markdown",
   "metadata": {},
   "source": [
    "## 1_2 Grille"
   ]
  },
  {
   "cell_type": "markdown",
   "metadata": {},
   "source": [
    "Avant de construire un labyrinthe, nous allons commencer par construire une grille.\n",
    "Nous avons pour cela défini plusieurs classes :\n",
    "la classe UneCellule, permettant de créer une cellule de la grille. Cette cellule sera caractérisée par sa position dans la grille, et possède 4 \"bords\" appelés murs : le mur Nord, le mur Sud, le mur Est et le mur Ouest.\n",
    "la classe Grille, qui est un tableau de nx lignes et nxcolonnes de cellules."
   ]
  },
  {
   "cell_type": "code",
   "execution_count": 96,
   "metadata": {},
   "outputs": [],
   "source": [
    "########\n",
    "class UneCellule:\n",
    "    \"\"\"\n",
    "    définition d'une cellule\n",
    "    \"\"\"\n",
    "    \n",
    "    def __init__(self,x, y):\n",
    "        \"\"\"\n",
    "        créer une cellule positionnée en (x=ligne, y=colonne)\n",
    "        \"\"\"\n",
    "        \n",
    "        self.x = x\n",
    "        self.y = y\n",
    "        #les murs sont dans l'ordre : N, S, E, O. \n",
    "        #la valeur est à True si un mur est présent, False sinon\n",
    "        self.murs = {'N': True, 'S': True, 'E': True, 'O': True}\n",
    "\n",
    "\n",
    "########      \n",
    "class Grille :\n",
    "    \"\"\"\n",
    "    construction d'une grille de cellules\n",
    "    \"\"\"\n",
    "    \n",
    "    def __init__(self, nx, ny):\n",
    "        \"\"\"\n",
    "        construction d'une grille de dimension (nx, ny)\n",
    "        \"\"\"\n",
    "        \n",
    "        self.nx = nx\n",
    "        self.ny = ny\n",
    "        self.cadrillage = []\n",
    "        for i in range(nx):\n",
    "            GrilleLigne=[]\n",
    "            for j in range(ny):\n",
    "                GrilleLigne.append(UneCellule(i,j))\n",
    "            self.cadrillage.append(GrilleLigne)\n",
    "        \n",
    "        \n",
    "    def cellule(self, x, y):\n",
    "        \"\"\"\n",
    "        retourne la cellule de la grille de position (x=ligne, y=colonne)\n",
    "        \"\"\"\n",
    "        \n",
    "        return self.cadrillage[x][y]\n",
    "    \n",
    "    def __str__(self):\n",
    "        \"\"\"\n",
    "        retourne une chaine représentant le labyrinthe\n",
    "        Attention : seuls les murs Est et Sud d'une cellule sont représentés\n",
    "        \"\"\"\n",
    "        laby_lignes = ['+---' * self.ny+'+']\n",
    "        \n",
    "        for x in range(self.nx):\n",
    "            laby_l = ['|']\n",
    "            for y in range(self.ny):\n",
    "                if self.cadrillage[x][y].murs['E']:\n",
    "                    laby_l.append('   |')\n",
    "                else:\n",
    "                    laby_l.append('    ')\n",
    "            laby_lignes.append(''.join(laby_l))\n",
    "            laby_l = ['+']\n",
    "            for y in range(self.ny):\n",
    "                if self.cadrillage[x][y].murs['S']:\n",
    "                    laby_l.append('---+')\n",
    "                else:\n",
    "                    laby_l.append('   +')\n",
    "            laby_lignes.append(''.join(laby_l))\n",
    "        return '\\n'.join(laby_lignes)"
   ]
  },
  {
   "cell_type": "markdown",
   "metadata": {},
   "source": [
    "## 1_3 Utilisation des classes"
   ]
  },
  {
   "cell_type": "markdown",
   "metadata": {},
   "source": [
    "Afin de mieux comprendre les classes ci-dessus, voyons quelques exemples."
   ]
  },
  {
   "cell_type": "code",
   "execution_count": 97,
   "metadata": {},
   "outputs": [
    {
     "name": "stdout",
     "output_type": "stream",
     "text": [
      "+---+---+---+---+---+---+\n",
      "|   |   |   |   |   |   |\n",
      "+---+---+---+---+---+---+\n",
      "|   |   |   |   |   |   |\n",
      "+---+---+---+---+---+---+\n",
      "|   |   |   |   |   |   |\n",
      "+---+---+---+---+---+---+\n",
      "|   |   |   |   |   |   |\n",
      "+---+---+---+---+---+---+\n"
     ]
    }
   ],
   "source": [
    "# Contruction d'une grille de 4 lignes par 6 colonnes\n",
    "test = Grille(4,6)\n",
    "print(test)"
   ]
  },
  {
   "cell_type": "code",
   "execution_count": 98,
   "metadata": {},
   "outputs": [
    {
     "name": "stdout",
     "output_type": "stream",
     "text": [
      "4 6\n"
     ]
    }
   ],
   "source": [
    "# Accès aux dimensions de la grille\n",
    "print(test.nx, test.ny)"
   ]
  },
  {
   "cell_type": "code",
   "execution_count": 99,
   "metadata": {},
   "outputs": [],
   "source": [
    "# Accès à une cellule de la grille\n",
    "cell =test.cellule(2,3)"
   ]
  },
  {
   "cell_type": "code",
   "execution_count": 100,
   "metadata": {},
   "outputs": [
    {
     "name": "stdout",
     "output_type": "stream",
     "text": [
      "2 3\n"
     ]
    }
   ],
   "source": [
    "# Accès à la position d'une cellule (sous forme (ligne, colonne))\n",
    "print(cell.x, cell.y)"
   ]
  },
  {
   "cell_type": "code",
   "execution_count": 101,
   "metadata": {},
   "outputs": [
    {
     "data": {
      "text/plain": [
       "{'N': True, 'S': True, 'E': True, 'O': True}"
      ]
     },
     "execution_count": 101,
     "metadata": {},
     "output_type": "execute_result"
    }
   ],
   "source": [
    "# Accès aux murs d'une cellule\n",
    "cell.murs"
   ]
  },
  {
   "cell_type": "code",
   "execution_count": 102,
   "metadata": {},
   "outputs": [
    {
     "data": {
      "text/plain": [
       "True"
      ]
     },
     "execution_count": 102,
     "metadata": {},
     "output_type": "execute_result"
    }
   ],
   "source": [
    "# Accès au mur Est d'une cellule\n",
    "cell.murs['E']"
   ]
  },
  {
   "cell_type": "markdown",
   "metadata": {},
   "source": [
    "## 1_4 Premier exercice"
   ]
  },
  {
   "cell_type": "markdown",
   "metadata": {},
   "source": [
    "Reprenons la grille test précédente, et commençons par détruire quelques murs."
   ]
  },
  {
   "cell_type": "code",
   "execution_count": 103,
   "metadata": {},
   "outputs": [
    {
     "name": "stdout",
     "output_type": "stream",
     "text": [
      "+---+---+---+---+---+---+\n",
      "|   |   |   |   |   |   |\n",
      "+---+---+---+---+---+---+\n",
      "|   |   |   |   |   |   |\n",
      "+---+---+---+---+---+---+\n",
      "|   |   |   |       |   |\n",
      "+---+---+---+---+---+---+\n",
      "|   |   |   |   |   |   |\n",
      "+---+---+---+---+---+---+\n"
     ]
    }
   ],
   "source": [
    "# Détruisons le mur Est de la cellule 'cell' positionnée en (2,3)\n",
    "cell.murs['E']=False\n",
    "print(test)"
   ]
  },
  {
   "cell_type": "markdown",
   "metadata": {},
   "source": [
    "On remarque que le mur Est de la cellule (2,3) est bien détruit. Mais pour autant ... le mur Ouest de la cellule (2,4) est encore intact !!"
   ]
  },
  {
   "cell_type": "code",
   "execution_count": 104,
   "metadata": {},
   "outputs": [
    {
     "data": {
      "text/plain": [
       "True"
      ]
     },
     "execution_count": 104,
     "metadata": {},
     "output_type": "execute_result"
    }
   ],
   "source": [
    "test.cellule(2,4).murs['O']"
   ]
  },
  {
   "cell_type": "markdown",
   "metadata": {},
   "source": [
    "Cela est bien problèmatique, car en terme de représentation du labyrinthe, le mur Est de (2,3) est bien le même mur est que le mur Ouest de (2,4) !\n",
    "Plus problèmatique, encore : reconstruisons le mur Est de (2,3), détruisons le mur Ouest de (2,4), et visualisons le résultat :"
   ]
  },
  {
   "cell_type": "code",
   "execution_count": 105,
   "metadata": {},
   "outputs": [
    {
     "name": "stdout",
     "output_type": "stream",
     "text": [
      "+---+---+---+---+---+---+\n",
      "|   |   |   |   |   |   |\n",
      "+---+---+---+---+---+---+\n",
      "|   |   |   |   |   |   |\n",
      "+---+---+---+---+---+---+\n",
      "|   |   |   |   |   |   |\n",
      "+---+---+---+---+---+---+\n",
      "|   |   |   |   |   |   |\n",
      "+---+---+---+---+---+---+\n"
     ]
    }
   ],
   "source": [
    "test.cellule(2,3).murs['E']=True\n",
    "test.cellule(2,4).murs['O']=False\n",
    "print(test)"
   ]
  },
  {
   "cell_type": "markdown",
   "metadata": {},
   "source": [
    "Comme vous pouvez le voir, le mur Ouest de (2,4) est bien détruit, et pourtant cela n'apparaît pas dans la visualisation de la grille.\n",
    "Cela est du à la façon de construire la représentation de la grille. Par commodité, seuls les murs Est et Sud d'une cellule sont traçés. Cela permet de ne pas afficher de 'doubles murs', mais en contrepartie le lien qui existe entre deux cellules de part et d'autres d'un même mur est perdu.\n",
    "Nous aurons le même problème avec par exemple le mur Nord de (2,3) et le mur Sud de (1,3)."
   ]
  },
  {
   "cell_type": "code",
   "execution_count": 106,
   "metadata": {},
   "outputs": [
    {
     "name": "stdout",
     "output_type": "stream",
     "text": [
      "+---+---+---+---+---+---+\n",
      "|   |   |   |   |   |   |\n",
      "+---+---+---+---+---+---+\n",
      "|   |   |   |   |   |   |\n",
      "+---+---+---+---+---+---+\n",
      "|   |   |   |   |   |   |\n",
      "+---+---+---+---+---+---+\n",
      "|   |   |   |   |   |   |\n",
      "+---+---+---+---+---+---+\n"
     ]
    }
   ],
   "source": [
    "# casser le mur Nord de (2,3) passera inaperçu\n",
    "test = Grille(4,6)\n",
    "test.cellule(2,3).murs['N']=False\n",
    "print(test)"
   ]
  },
  {
   "cell_type": "code",
   "execution_count": 107,
   "metadata": {},
   "outputs": [
    {
     "name": "stdout",
     "output_type": "stream",
     "text": [
      "+---+---+---+---+---+---+\n",
      "|   |   |   |   |   |   |\n",
      "+---+---+---+---+---+---+\n",
      "|   |   |   |   |   |   |\n",
      "+---+---+---+   +---+---+\n",
      "|   |   |   |   |   |   |\n",
      "+---+---+---+---+---+---+\n",
      "|   |   |   |   |   |   |\n",
      "+---+---+---+---+---+---+\n"
     ]
    }
   ],
   "source": [
    "# si on veut voir disparaitre le mur, il faut détruire le mur Sud de (1,3)\n",
    "test.cellule(1,3).murs['S']=False\n",
    "print(test)"
   ]
  },
  {
   "cell_type": "markdown",
   "metadata": {},
   "source": [
    "### Exercice :"
   ]
  },
  {
   "cell_type": "markdown",
   "metadata": {},
   "source": [
    "Afin de palier à ce problème, créer une fonction effaceMur(grille, coord, orientation) qui pour une grille grille :\n",
    "efface le mur orientation (c-à-d 'N', 'S', 'E' ou 'O') de la cellule de position coord.\n",
    "efface aussi le mur correspondant de la cellule voisine."
   ]
  },
  {
   "cell_type": "code",
   "execution_count": 108,
   "metadata": {},
   "outputs": [],
   "source": [
    "def effaceMur(grille, coord, orientation)->None:\n",
    "    grille.cellule(coord[0],coord[1]).murs[orientation]=False\n",
    "\n",
    "    if orientation == 'S' and coord[0]==grille.nx-1:\n",
    "        rien = 'rien'\n",
    "    elif orientation == 'N' and coord[0]==0:\n",
    "        rien = 'rien'\n",
    "    elif orientation == 'E' and coord[1]==grille.ny-1:\n",
    "        rien = 'rien'\n",
    "    elif orientation == 'O' and coord[1]==0:\n",
    "        rien = 'rien'\n",
    "    else:\n",
    "        if orientation == 'S':\n",
    "            grille.cellule(coord[0]+1,coord[1]).murs['N'] = False\n",
    "        elif orientation == 'N':\n",
    "            grille.cellule(coord[0]-1,coord[1]).murs['S'] = False\n",
    "        elif orientation == 'O':\n",
    "            grille.cellule(coord[0],coord[1]-1).murs['E'] = False\n",
    "        elif orientation == 'E':\n",
    "            grille.cellule(coord[0],coord[1]+1).murs['O'] = False\n",
    "            \n",
    "    return None"
   ]
  },
  {
   "cell_type": "markdown",
   "metadata": {},
   "source": [
    "Exemple :"
   ]
  },
  {
   "cell_type": "code",
   "execution_count": 109,
   "metadata": {},
   "outputs": [
    {
     "name": "stdout",
     "output_type": "stream",
     "text": [
      "{'N': True, 'S': True, 'E': True, 'O': False}\n",
      "{'N': True, 'S': True, 'E': False, 'O': True}\n",
      "+---+---+---+---+---+---+\n",
      "|   |   |   |   |   |   |\n",
      "+---+---+---+---+---+---+\n",
      "|   |   |   |   |   |   |\n",
      "+---+---+---+---+---+---+\n",
      "|   |   |   |   |   |   |\n",
      "+---+---+---+---+---+---+\n",
      "|   |       |   |   |   |\n",
      "+---+---+---+---+---+---+\n"
     ]
    }
   ],
   "source": [
    "test = Grille(4,6)\n",
    "\n",
    "# on efface le mur Ouest de la cellule (3,2)\n",
    "effaceMur(test,(3,2),'O')\n",
    "\n",
    "# affichage de la cellule modifiée\n",
    "print(test.cellule(3,2).murs)\n",
    "\n",
    "# affichage de la cellule 'voisine', ici la cellule (3,1)\n",
    "print(test.cellule(3,1).murs)\n",
    "\n",
    "# affichage de la grille\n",
    "print(test)"
   ]
  },
  {
   "cell_type": "code",
   "execution_count": 110,
   "metadata": {},
   "outputs": [
    {
     "name": "stdout",
     "output_type": "stream",
     "text": [
      "{'N': False, 'S': True, 'E': True, 'O': True}\n",
      "{'N': True, 'S': False, 'E': True, 'O': True}\n",
      "+---+---+---+---+---+---+\n",
      "|   |   |   |   |   |   |\n",
      "+---+---+---+---+---+---+\n",
      "|   |   |   |   |   |   |\n",
      "+---+   +---+---+---+---+\n",
      "|   |   |   |   |   |   |\n",
      "+---+---+---+---+---+---+\n",
      "|   |   |   |   |   |   |\n",
      "+---+---+---+---+---+---+\n"
     ]
    }
   ],
   "source": [
    "test = Grille(4,6)\n",
    "\n",
    "# on efface le mur Nord de la cellule (2,1)\n",
    "effaceMur(test,(2,1),'N')\n",
    "\n",
    "# affichage de la cellule modifiée\n",
    "print(test.cellule(2,1).murs)\n",
    "\n",
    "# affichage de la cellule 'voisine', ici la cellule (1,1)\n",
    "print(test.cellule(1,1).murs)\n",
    "\n",
    "# affichage de la grille\n",
    "print(test)"
   ]
  },
  {
   "cell_type": "code",
   "execution_count": 111,
   "metadata": {},
   "outputs": [
    {
     "name": "stdout",
     "output_type": "stream",
     "text": [
      "{'N': True, 'S': True, 'E': False, 'O': True}\n",
      "+---+---+---+---+---+---+\n",
      "|   |   |   |   |   |    \n",
      "+---+---+---+---+---+---+\n",
      "|   |   |   |   |   |   |\n",
      "+---+---+---+---+---+---+\n",
      "|   |   |   |   |   |   |\n",
      "+---+---+---+---+---+---+\n",
      "|   |   |   |   |   |   |\n",
      "+---+---+---+---+---+---+\n"
     ]
    }
   ],
   "source": [
    "test = Grille(4,6)\n",
    "\n",
    "# on efface le mur Est de la cellule (0,5)\n",
    "effaceMur(test,(0,5),'E')\n",
    "\n",
    "# affichage de la cellule modifiée\n",
    "print(test.cellule(0,5).murs)\n",
    "\n",
    "# Attention : cette cellule n'a pas de cellule voisine située à sa droite, donc il ne doit pas y avoir de modifications supplémentaires !\n",
    "\n",
    "# affichage de la grille\n",
    "print(test)"
   ]
  },
  {
   "cell_type": "markdown",
   "metadata": {},
   "source": [
    "# 2°) Construction de labyrinthes parfaits"
   ]
  },
  {
   "cell_type": "markdown",
   "metadata": {},
   "source": [
    "Nous allons voir dans cette partie plusieurs algorithmes permettant de créer des labyrinthes parfaits. Nous ne nous occuperons pas de placer les entrées et sorties du labyrinthes, qui n'influent pas sur la construction.\n",
    "Ainsi, les murs extérieurs de la grille ne seront jamais détruits."
   ]
  },
  {
   "cell_type": "markdown",
   "metadata": {},
   "source": [
    "## 2_1 Algorithme de l'arbre binaire"
   ]
  },
  {
   "cell_type": "markdown",
   "metadata": {},
   "source": [
    "Nous allons construire notre premier labyrinthe, à l'aide d'un algorithme très simple. En voici sa description :\n",
    "on part d'une grille où tous les murs existent.\n",
    "on parcourt une à une toutes les cellules de la grille (en commençant en haut à gauche, c'est à dire en (0,0)).\n",
    "pour chaque cellule ainsi parcourue, on détruit aléatoirement soit le mur Sud soit le mur Est.\n",
    "On fera attention que si une cellule est située sur le bord droit de la grille, c'est le mur Sud qui sera détruit.\n",
    "De même, si une cellule est située sur le bord du bas de la grille, c'est focément le mur Est qui sera détruit.\n",
    "on ne détruira aucun mur de la cellule située tout en bas à droite."
   ]
  },
  {
   "cell_type": "markdown",
   "metadata": {},
   "source": [
    "### Exercice :"
   ]
  },
  {
   "cell_type": "code",
   "execution_count": 112,
   "metadata": {},
   "outputs": [],
   "source": [
    "from random import *"
   ]
  },
  {
   "cell_type": "markdown",
   "metadata": {},
   "source": [
    "Construire une fonction arbreBinaire(grille) qui réalise l'algorithme précédent."
   ]
  },
  {
   "cell_type": "code",
   "execution_count": 113,
   "metadata": {},
   "outputs": [],
   "source": [
    "def arbreBinaire(grille):\n",
    "    for j in range(grille.nx):\n",
    "        for i in range(grille.ny):\n",
    "            orien = choice(['E', 'S'])\n",
    "            if i == grille.ny-1:\n",
    "                orien = 'S'\n",
    "            if j == grille.nx-1:\n",
    "                orien = 'E'\n",
    "            if j == grille.nx-1 and i == grille.ny-1:\n",
    "                orien = ''\n",
    "            effaceMur(grille, (j, i), orien)\n",
    "    return grille"
   ]
  },
  {
   "cell_type": "markdown",
   "metadata": {},
   "source": [
    "Exemple :"
   ]
  },
  {
   "cell_type": "code",
   "execution_count": 114,
   "metadata": {},
   "outputs": [
    {
     "name": "stdout",
     "output_type": "stream",
     "text": [
      "+---+---+---+---+---+---+\n",
      "|               |       |\n",
      "+---+---+---+   +---+   +\n",
      "|           |       |   |\n",
      "+---+---+   +---+   +   +\n",
      "|       |           |   |\n",
      "+---+   +---+---+   +   +\n",
      "|                       |\n",
      "+---+---+---+---+---+---+\n"
     ]
    }
   ],
   "source": [
    "AB = Grille(4,6)\n",
    "print(arbreBinaire(AB))"
   ]
  },
  {
   "cell_type": "markdown",
   "metadata": {},
   "source": [
    "Essayez de construire plusieurs labyrinthes à l'aide de cette méthode. Qu'ont en commun tous ces labyrinthes ?"
   ]
  },
  {
   "cell_type": "markdown",
   "metadata": {},
   "source": [
    "ils ont tous leur ligne du bas et leur colonne de droite ouverts"
   ]
  },
  {
   "cell_type": "markdown",
   "metadata": {},
   "source": [
    "## 2_2 Algorithme sidewinder"
   ]
  },
  {
   "cell_type": "markdown",
   "metadata": {},
   "source": [
    "Cet algorithme simple est très similaire à l'algorithme précédent. Le labyrinthe est généré une ligne à la fois : pour chaque cellule de cette ligne, on décide aléatoirement s'il faut détruire le mur Est ou pas.\n",
    "Si oui, alors on détruit le mur Est.\n",
    "Sinon, on considère le passage horizontal qui vient d'être terminé, formé par la cellule actuelle et toutes les cellules à gauche qui ont creusé des passages menant à celle-ci. On choisit alors aléatoirement une cellule le long de ce passage et on détruit son mur Sud."
   ]
  },
  {
   "cell_type": "markdown",
   "metadata": {},
   "source": [
    "### Exercice :"
   ]
  },
  {
   "cell_type": "markdown",
   "metadata": {},
   "source": [
    "Construire une fonction sidewinder(grille) qui réalise l'algorithme précédent."
   ]
  },
  {
   "cell_type": "code",
   "execution_count": 115,
   "metadata": {},
   "outputs": [],
   "source": [
    "def sidewinder(grille):\n",
    "    timerDeb = 0\n",
    "    timerFin = 0\n",
    "    for i in range(grille.nx-1):\n",
    "        for j in range(grille.ny):\n",
    "            alea = randint(0,1)\n",
    "            if (j < grille.ny):\n",
    "                if (alea == 0) and (j < grille.ny-1):\n",
    "                    effaceMur(grille,(i,j),'E')\n",
    "                    timerFin += 1\n",
    "                elif (j == grille.ny-1) and timerFin == timerDeb:\n",
    "                    effaceMur(grille,(i,j),'S')\n",
    "                else:\n",
    "                    distance = timerFin-timerDeb\n",
    "                    newAlea=randint(0,distance)\n",
    "                    effaceMur(grille,(i,j-newAlea),'S')\n",
    "                    timerDeb = timerFin\n",
    "\n",
    "    #traitement de la dernière ligne\n",
    "    for i in range(grille.ny-1):\n",
    "        effaceMur(grille,(grille.nx-1,i),'E')\n",
    "\n",
    "    return grille"
   ]
  },
  {
   "cell_type": "markdown",
   "metadata": {},
   "source": [
    "Exemple :"
   ]
  },
  {
   "cell_type": "code",
   "execution_count": 116,
   "metadata": {},
   "outputs": [
    {
     "name": "stdout",
     "output_type": "stream",
     "text": [
      "+---+---+---+---+---+---+\n",
      "|       |   |       |   |\n",
      "+   +---+   +---+   +   +\n",
      "|       |   |       |   |\n",
      "+---+   +   +---+   +   +\n",
      "|       |       |   |   |\n",
      "+   +---+---+   +   +   +\n",
      "|                       |\n",
      "+---+---+---+---+---+---+\n"
     ]
    }
   ],
   "source": [
    "SW = Grille(4,6)\n",
    "print(sidewinder(SW))"
   ]
  },
  {
   "cell_type": "markdown",
   "metadata": {},
   "source": [
    "Essayez de construire plusieurs labyrinthes à l'aide de cette méthode. Qu'ont en commun tous ces labyrinthes ?"
   ]
  },
  {
   "cell_type": "markdown",
   "metadata": {},
   "source": [
    "ils ont tous leur ligne du bas ouvert"
   ]
  },
  {
   "cell_type": "markdown",
   "metadata": {},
   "source": [
    "## 2_3 Algorithme d'exploration exhaustive"
   ]
  },
  {
   "cell_type": "markdown",
   "metadata": {},
   "source": [
    "Cet algorithme s'apparente au parcours en profondeur d'arbre vu en cours. Voici la description de cet algorithme sur wikipedia:\n",
    "Exploration Exhaustive\n",
    "L'utilisation de la récursivité n'étant pas au programme, nous allons comme en TP de graphes utiliser une Pile."
   ]
  },
  {
   "cell_type": "markdown",
   "metadata": {},
   "source": [
    "### Exercice :"
   ]
  },
  {
   "cell_type": "markdown",
   "metadata": {},
   "source": [
    "Construire une fonction explorationE(grille) qui réalise l'algorithme précédent."
   ]
  },
  {
   "cell_type": "code",
   "execution_count": 117,
   "metadata": {},
   "outputs": [],
   "source": [
    "def explorationE(grille):\n",
    "    h = grille.nx\n",
    "    l = grille.ny\n",
    "    Visite = []\n",
    "    for i in range(h):\n",
    "        petitTab = []\n",
    "        for j in range(l):\n",
    "            petitTab += [0]\n",
    "        Visite += [petitTab]\n",
    "    Pile = [(randint(0,h-1),randint(0,l-1))]\n",
    "    Visite[Pile[0][0]][Pile[0][1]] = 1\n",
    "    \n",
    "    while Pile != []:\n",
    "        \n",
    "        voisins = []\n",
    "        if  Pile[0][0] < h-1 and Visite[Pile[0][0]+1][Pile[0][1]] == 0:\n",
    "            voisins += [(Pile[0][0]+1,Pile[0][1],'S')]\n",
    "\n",
    "        if  Pile[0][0] > 0 and Visite[Pile[0][0]-1][Pile[0][1]] == 0:\n",
    "            voisins += [(Pile[0][0]-1,Pile[0][1],'N')]\n",
    "\n",
    "        if  Pile[0][1] < l-1 and Visite[Pile[0][0]][Pile[0][1]+1] == 0:\n",
    "            voisins += [(Pile[0][0],Pile[0][1]+1,'E')]\n",
    "\n",
    "        if  Pile[0][1] > 0 and Visite[Pile[0][0]][Pile[0][1]-1] == 0:\n",
    "            voisins += [(Pile[0][0],Pile[0][1]-1,'O')]\n",
    "            \n",
    "        if voisins != []:\n",
    "            alea = randint(0,len(voisins)-1)\n",
    "            destru = (voisins[alea])\n",
    "            effaceMur(grille,(Pile[0][0],Pile[0][1]),destru[2])\n",
    "            Visite[destru[0]][destru[1]] = 1\n",
    "            Pile = [(destru[0],destru[1])] + Pile\n",
    "        else:\n",
    "            Pile.pop(0)\n",
    "            \n",
    "    return grille"
   ]
  },
  {
   "cell_type": "markdown",
   "metadata": {},
   "source": [
    "Exemple :"
   ]
  },
  {
   "cell_type": "code",
   "execution_count": 131,
   "metadata": {},
   "outputs": [
    {
     "name": "stdout",
     "output_type": "stream",
     "text": [
      "+---+---+---+---+---+---+\n",
      "|           |           |\n",
      "+   +---+---+   +---+   +\n",
      "|   |       |   |   |   |\n",
      "+   +   +   +   +   +---+\n",
      "|   |   |       |       |\n",
      "+   +   +---+---+---+   +\n",
      "|                       |\n",
      "+---+---+---+---+---+---+\n"
     ]
    }
   ],
   "source": [
    "test = Grille(4,6)\n",
    "Exp = explorationE(test)\n",
    "print(Exp)"
   ]
  },
  {
   "cell_type": "markdown",
   "metadata": {},
   "source": [
    "# 3°) Résolution d'un labyrinthe parfait"
   ]
  },
  {
   "cell_type": "markdown",
   "metadata": {},
   "source": [
    "## 3_1 Introduction"
   ]
  },
  {
   "cell_type": "markdown",
   "metadata": {},
   "source": [
    "Nous allons proposer maintenant une résolution de labyrinthe, par une version simplifiée de l'algorithme de Dijkstra.\n",
    "Pour cela, nous ferons la convention que l'entrée du labyrinthe est la cellule en haut à gauche et que la sortie est la cellule située en bas à droite.\n",
    "Nous dirons que deux cellules sont attenantes ssi il n'y a pas de murs entre elles."
   ]
  },
  {
   "cell_type": "markdown",
   "metadata": {},
   "source": [
    "### Exercice :"
   ]
  },
  {
   "cell_type": "markdown",
   "metadata": {},
   "source": [
    "Construire une fonction attenantes(labyrinthe,coord) qui retourne les cellules attenantes à la cellule de position coord."
   ]
  },
  {
   "cell_type": "code",
   "execution_count": 119,
   "metadata": {},
   "outputs": [],
   "source": [
    "def attenantes(grille,coord):\n",
    "    res = []\n",
    "\n",
    "    if  coord[0] < grille.nx-1 and grille.cellule(coord[0],coord[1]).murs['S']==False:\n",
    "        res += [(coord[0]+1,coord[1])]\n",
    "\n",
    "    if  coord[0] > 0 and grille.cellule(coord[0],coord[1]).murs['N']==False:\n",
    "        res += [(coord[0]-1,coord[1])]\n",
    "\n",
    "    if  coord[1] < grille.ny-1 and grille.cellule(coord[0],coord[1]).murs['E']==False:\n",
    "        res += [(coord[0],coord[1]+1)]\n",
    "\n",
    "    if  coord[1] > 0 and grille.cellule(coord[0],coord[1]).murs['O']==False:\n",
    "        res += [(coord[0],coord[1]-1)]\n",
    "        \n",
    "    return res"
   ]
  },
  {
   "cell_type": "markdown",
   "metadata": {},
   "source": [
    "Exemple :"
   ]
  },
  {
   "cell_type": "code",
   "execution_count": 120,
   "metadata": {},
   "outputs": [
    {
     "name": "stdout",
     "output_type": "stream",
     "text": [
      "+---+---+---+---+---+---+\n",
      "|               |   |   |\n",
      "+   +   +---+---+   +   +\n",
      "|   |   |       |   |   |\n",
      "+   +---+   +   +   +   +\n",
      "|           |       |   |\n",
      "+   +---+---+---+---+   +\n",
      "|                       |\n",
      "+---+---+---+---+---+---+\n"
     ]
    }
   ],
   "source": [
    "laby = explorationE(Grille(4,6))\n",
    "print(laby)"
   ]
  },
  {
   "cell_type": "code",
   "execution_count": 121,
   "metadata": {},
   "outputs": [
    {
     "name": "stdout",
     "output_type": "stream",
     "text": [
      "[(2, 3), (1, 2)]\n"
     ]
    }
   ],
   "source": [
    "print(attenantes(laby,(1,3)))"
   ]
  },
  {
   "cell_type": "code",
   "execution_count": 122,
   "metadata": {},
   "outputs": [
    {
     "name": "stdout",
     "output_type": "stream",
     "text": [
      "[(0, 1)]\n"
     ]
    }
   ],
   "source": [
    "print(attenantes(laby,(1,1)))"
   ]
  },
  {
   "cell_type": "markdown",
   "metadata": {},
   "source": [
    "## 3_2 Calcul des distances depuis (0,0)"
   ]
  },
  {
   "cell_type": "code",
   "execution_count": 123,
   "metadata": {},
   "outputs": [],
   "source": [
    "from math import inf"
   ]
  },
  {
   "cell_type": "markdown",
   "metadata": {},
   "source": [
    "L'objectif de cette partie est d'obtenir un tableau (ou une matrice ...) notée D, où :\n",
    "D[i,j] = nombre de cases nécéssaires pour se rendre de la case (0,0) à la case (i,j)."
   ]
  },
  {
   "cell_type": "markdown",
   "metadata": {},
   "source": [
    "Nous allons cette fois utiliser une File."
   ]
  },
  {
   "cell_type": "markdown",
   "metadata": {},
   "source": [
    "### Exercice"
   ]
  },
  {
   "cell_type": "markdown",
   "metadata": {},
   "source": [
    "Construire une fonction distance(labyrinthe) qui retourne la matrice D pour un labyrinthe donné."
   ]
  },
  {
   "cell_type": "code",
   "execution_count": 124,
   "metadata": {},
   "outputs": [],
   "source": [
    "def distance(labyrinthe):\n",
    "    D = [[inf] * labyrinthe.ny for _ in range(labyrinthe.nx)]\n",
    "    #Ce tableau contiendra les distances depuis (0,0), et peut être initialisé à l'infini\n",
    "\n",
    "    File = []\n",
    "\n",
    "    #Initialisation :\n",
    "    D[0][0] = 0\n",
    "    File += [(0,0)]\n",
    "    \n",
    "    while File != []:\n",
    "        ij = File[-1]\n",
    "        lesatt = attenantes(laby, ij)\n",
    "        for k in range (len (lesatt)):\n",
    "            if D[lesatt[k][0]][lesatt[k][1]] == inf:\n",
    "                File = [lesatt[k]] + File\n",
    "                D[lesatt[k][0]][lesatt[k][1]] = D[ij[0]][ij[1]]+1\n",
    "        del File[-1]\n",
    "\n",
    "    return D"
   ]
  },
  {
   "cell_type": "code",
   "execution_count": 125,
   "metadata": {},
   "outputs": [
    {
     "name": "stdout",
     "output_type": "stream",
     "text": [
      "+---+---+---+---+---+---+\n",
      "|               |   |   |\n",
      "+   +   +---+---+   +   +\n",
      "|   |   |       |   |   |\n",
      "+   +---+   +   +   +   +\n",
      "|           |       |   |\n",
      "+   +---+---+---+---+   +\n",
      "|                       |\n",
      "+---+---+---+---+---+---+ \n",
      "\n",
      "[[0, 1, 2, 3, 10, 11], [1, 2, 5, 6, 9, 10], [2, 3, 4, 7, 8, 9], [3, 4, 5, 6, 7, 8]]\n"
     ]
    }
   ],
   "source": [
    "print(laby,\"\\n\")\n",
    "print(distance(laby))"
   ]
  },
  {
   "cell_type": "markdown",
   "metadata": {},
   "source": [
    "## 3_3 Résolution"
   ]
  },
  {
   "cell_type": "markdown",
   "metadata": {},
   "source": [
    "Pour trouver la solution au labyrinthe, il \"suffit\" de partir de la cellule en bas à droite, et de remonter le chemin dans D en suivant l'ordre décroissant."
   ]
  },
  {
   "cell_type": "markdown",
   "metadata": {},
   "source": [
    "### Exercice :"
   ]
  },
  {
   "cell_type": "markdown",
   "metadata": {},
   "source": [
    "Construire une fonction resolution(labyrinthe) qui retourne le chemin permettant de résoudre le labyrinthe."
   ]
  },
  {
   "cell_type": "code",
   "execution_count": 126,
   "metadata": {},
   "outputs": [],
   "source": [
    "def resolution(labyrinthe):\n",
    "\n",
    "    dist = distance(labyrinthe)\n",
    "    pos = (labyrinthe.nx-1,labyrinthe.ny-1)\n",
    "    retour = [pos]\n",
    "\n",
    "    for i in range(labyrinthe.nx-1):\n",
    "        for j in range(labyrinthe.ny-1):\n",
    "            voisins = attenantes(labyrinthe,(pos[0],pos[1]))\n",
    "            compteur = 0\n",
    "            while compteur != -1 and compteur < 5:\n",
    "                if dist[pos[0]][pos[1]] > 0 and (dist[voisins[compteur][0]][voisins[compteur][1]] == dist[pos[0]][pos[1]]-1):\n",
    "\n",
    "                    pos = (voisins[compteur][0],voisins[compteur][1])\n",
    "                    retour = [pos] + retour\n",
    "                    \n",
    "                    compteur = -1\n",
    "                else:\n",
    "                    compteur += 1\n",
    "    return retour"
   ]
  },
  {
   "cell_type": "markdown",
   "metadata": {},
   "source": [
    "Exemple :"
   ]
  },
  {
   "cell_type": "code",
   "execution_count": 127,
   "metadata": {},
   "outputs": [
    {
     "name": "stdout",
     "output_type": "stream",
     "text": [
      "+---+---+---+---+---+---+\n",
      "|               |   |   |\n",
      "+   +   +---+---+   +   +\n",
      "|   |   |       |   |   |\n",
      "+   +---+   +   +   +   +\n",
      "|           |       |   |\n",
      "+   +---+---+---+---+   +\n",
      "|                       |\n",
      "+---+---+---+---+---+---+ \n",
      "\n",
      "[(0, 0), (1, 0), (2, 0), (3, 0), (3, 1), (3, 2), (3, 3), (3, 4), (3, 5)]\n"
     ]
    }
   ],
   "source": [
    "print(laby,\"\\n\")\n",
    "print(resolution(laby))"
   ]
  },
  {
   "cell_type": "code",
   "execution_count": null,
   "metadata": {},
   "outputs": [],
   "source": []
  }
 ],
 "metadata": {
  "kernelspec": {
   "display_name": "Python 3",
   "language": "python",
   "name": "python3"
  },
  "language_info": {
   "codemirror_mode": {
    "name": "ipython",
    "version": 3
   },
   "file_extension": ".py",
   "mimetype": "text/x-python",
   "name": "python",
   "nbconvert_exporter": "python",
   "pygments_lexer": "ipython3",
   "version": "3.6.9"
  }
 },
 "nbformat": 4,
 "nbformat_minor": 2
}
